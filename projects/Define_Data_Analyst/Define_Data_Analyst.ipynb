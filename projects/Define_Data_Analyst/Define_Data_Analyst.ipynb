{
 "cells": [
  {
   "cell_type": "code",
   "execution_count": 1,
   "metadata": {
    "collapsed": true
   },
   "outputs": [],
   "source": [
    "import numpy as np\n",
    "import pandas as pd\n",
    "import requests\n",
    "from bs4 import BeautifulSoup\n",
    "import matplotlib.pyplot as plt\n",
    "import matplotlib\n",
    "matplotlib.style.use('ggplot')"
   ]
  },
  {
   "cell_type": "code",
   "execution_count": 2,
   "metadata": {
    "collapsed": false
   },
   "outputs": [
    {
     "data": {
      "text/html": [
       "<div>\n",
       "<table border=\"1\" class=\"dataframe\">\n",
       "  <thead>\n",
       "    <tr style=\"text-align: right;\">\n",
       "      <th></th>\n",
       "      <th>jobtitle</th>\n",
       "      <th>company</th>\n",
       "      <th>city</th>\n",
       "      <th>state</th>\n",
       "      <th>date</th>\n",
       "      <th>snippet</th>\n",
       "      <th>url</th>\n",
       "      <th>latitude</th>\n",
       "      <th>longitude</th>\n",
       "      <th>formattedRelativeTime</th>\n",
       "    </tr>\n",
       "  </thead>\n",
       "  <tbody>\n",
       "    <tr>\n",
       "      <th>0</th>\n",
       "      <td>Distribution Data Analyst</td>\n",
       "      <td>SmartPractice</td>\n",
       "      <td>Phoenix</td>\n",
       "      <td>AZ</td>\n",
       "      <td>Wed, 23 Dec 2015 20:12:42 GMT</td>\n",
       "      <td>We are currently seeking a Distribution Data A...</td>\n",
       "      <td>http://www.indeed.com/viewjob?jk=5926dd93beecf...</td>\n",
       "      <td>33.447803</td>\n",
       "      <td>-112.07143</td>\n",
       "      <td>2 days ago</td>\n",
       "    </tr>\n",
       "    <tr>\n",
       "      <th>1</th>\n",
       "      <td>Data Analyst</td>\n",
       "      <td>America's Tire</td>\n",
       "      <td>Scottsdale</td>\n",
       "      <td>AZ</td>\n",
       "      <td>Thu, 24 Dec 2015 11:58:21 GMT</td>\n",
       "      <td>A Data Analyst designs and provides reports pe...</td>\n",
       "      <td>http://www.indeed.com/viewjob?jk=5ed1721e96842...</td>\n",
       "      <td>33.508244</td>\n",
       "      <td>-111.89561</td>\n",
       "      <td>2 days ago</td>\n",
       "    </tr>\n",
       "    <tr>\n",
       "      <th>2</th>\n",
       "      <td>Data Analyst</td>\n",
       "      <td>Kaiser Permanente</td>\n",
       "      <td>Oakland</td>\n",
       "      <td>CA</td>\n",
       "      <td>Fri, 25 Dec 2015 13:57:02 GMT</td>\n",
       "      <td>Determines appropriate sources to obtain data ...</td>\n",
       "      <td>http://www.indeed.com/viewjob?jk=7f63d35c5029d...</td>\n",
       "      <td>37.802197</td>\n",
       "      <td>-122.26923</td>\n",
       "      <td>1 day ago</td>\n",
       "    </tr>\n",
       "    <tr>\n",
       "      <th>3</th>\n",
       "      <td>Data Analyst</td>\n",
       "      <td>Kaiser Permanente</td>\n",
       "      <td>Rockville</td>\n",
       "      <td>MD</td>\n",
       "      <td>Thu, 24 Dec 2015 21:38:48 GMT</td>\n",
       "      <td>And compiling data from KPHC Clarity, telephon...</td>\n",
       "      <td>http://www.indeed.com/viewjob?jk=791fff33389e5...</td>\n",
       "      <td>39.082417</td>\n",
       "      <td>-77.14835</td>\n",
       "      <td>1 day ago</td>\n",
       "    </tr>\n",
       "    <tr>\n",
       "      <th>4</th>\n",
       "      <td>Data Analyst</td>\n",
       "      <td>Zentek Infosoft, Inc.</td>\n",
       "      <td>Houston</td>\n",
       "      <td>TX</td>\n",
       "      <td>Thu, 24 Dec 2015 04:25:04 GMT</td>\n",
       "      <td>Assist data analyst in mapping task; Data Anal...</td>\n",
       "      <td>http://www.indeed.com/viewjob?jk=f9e144af59993...</td>\n",
       "      <td>29.760988</td>\n",
       "      <td>-95.36264</td>\n",
       "      <td>2 days ago</td>\n",
       "    </tr>\n",
       "  </tbody>\n",
       "</table>\n",
       "</div>"
      ],
      "text/plain": [
       "                    jobtitle                company        city state  \\\n",
       "0  Distribution Data Analyst          SmartPractice     Phoenix    AZ   \n",
       "1               Data Analyst         America's Tire  Scottsdale    AZ   \n",
       "2               Data Analyst      Kaiser Permanente     Oakland    CA   \n",
       "3               Data Analyst      Kaiser Permanente   Rockville    MD   \n",
       "4               Data Analyst  Zentek Infosoft, Inc.     Houston    TX   \n",
       "\n",
       "                            date  \\\n",
       "0  Wed, 23 Dec 2015 20:12:42 GMT   \n",
       "1  Thu, 24 Dec 2015 11:58:21 GMT   \n",
       "2  Fri, 25 Dec 2015 13:57:02 GMT   \n",
       "3  Thu, 24 Dec 2015 21:38:48 GMT   \n",
       "4  Thu, 24 Dec 2015 04:25:04 GMT   \n",
       "\n",
       "                                             snippet  \\\n",
       "0  We are currently seeking a Distribution Data A...   \n",
       "1  A Data Analyst designs and provides reports pe...   \n",
       "2  Determines appropriate sources to obtain data ...   \n",
       "3  And compiling data from KPHC Clarity, telephon...   \n",
       "4  Assist data analyst in mapping task; Data Anal...   \n",
       "\n",
       "                                                 url   latitude   longitude  \\\n",
       "0  http://www.indeed.com/viewjob?jk=5926dd93beecf...  33.447803  -112.07143   \n",
       "1  http://www.indeed.com/viewjob?jk=5ed1721e96842...  33.508244  -111.89561   \n",
       "2  http://www.indeed.com/viewjob?jk=7f63d35c5029d...  37.802197  -122.26923   \n",
       "3  http://www.indeed.com/viewjob?jk=791fff33389e5...  39.082417   -77.14835   \n",
       "4  http://www.indeed.com/viewjob?jk=f9e144af59993...  29.760988   -95.36264   \n",
       "\n",
       "  formattedRelativeTime  \n",
       "0            2 days ago  \n",
       "1            2 days ago  \n",
       "2             1 day ago  \n",
       "3             1 day ago  \n",
       "4            2 days ago  "
      ]
     },
     "execution_count": 2,
     "metadata": {},
     "output_type": "execute_result"
    }
   ],
   "source": [
    "# indeed API has already removed the duplicate positions\n",
    "df = pd.read_csv('indeed_jobs.txt', sep='|')\n",
    "df.head(5)"
   ]
  },
  {
   "cell_type": "code",
   "execution_count": 3,
   "metadata": {
    "collapsed": false
   },
   "outputs": [],
   "source": [
    "viz_data = df[['jobtitle', 'company', 'state', 'latitude', 'longitude']]\n",
    "viz_data.to_csv('viz_data.csv')"
   ]
  },
  {
   "cell_type": "code",
   "execution_count": 4,
   "metadata": {
    "collapsed": false
   },
   "outputs": [
    {
     "name": "stdout",
     "output_type": "stream",
     "text": [
      "/Users/apple/Documents/notes-and-projects/projects/Define_Data_Analyst/job_pages\n"
     ]
    }
   ],
   "source": [
    "% cd job_pages"
   ]
  },
  {
   "cell_type": "code",
   "execution_count": 20,
   "metadata": {
    "collapsed": false
   },
   "outputs": [],
   "source": [
    "import codecs\n",
    "import re\n",
    "for i in xrange(30110,75000):\n",
    "    url = df.iloc[i]['url']\n",
    "    \n",
    "    with codecs.open('{0}.html'.format(i), 'w+') as html_file:\n",
    "        r = requests.get(url)\n",
    "        if r.status_code == 200:\n",
    "            html_file.write(r.content)\n",
    "        else:\n",
    "            print 'row {0}: error.'.format(i)\n"
   ]
  },
  {
   "cell_type": "code",
   "execution_count": null,
   "metadata": {
    "collapsed": false
   },
   "outputs": [],
   "source": []
  },
  {
   "cell_type": "code",
   "execution_count": null,
   "metadata": {
    "collapsed": true
   },
   "outputs": [],
   "source": []
  }
 ],
 "metadata": {
  "kernelspec": {
   "display_name": "Python 2",
   "language": "python",
   "name": "python2"
  },
  "language_info": {
   "codemirror_mode": {
    "name": "ipython",
    "version": 2
   },
   "file_extension": ".py",
   "mimetype": "text/x-python",
   "name": "python",
   "nbconvert_exporter": "python",
   "pygments_lexer": "ipython2",
   "version": "2.7.11"
  }
 },
 "nbformat": 4,
 "nbformat_minor": 0
}
