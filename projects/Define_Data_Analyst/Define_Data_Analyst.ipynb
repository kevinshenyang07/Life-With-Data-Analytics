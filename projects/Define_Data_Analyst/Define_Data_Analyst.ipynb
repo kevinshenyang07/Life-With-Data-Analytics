{
 "cells": [
  {
   "cell_type": "code",
   "execution_count": 36,
   "metadata": {
    "collapsed": true
   },
   "outputs": [],
   "source": [
    "import numpy as np\n",
    "import pandas as pd\n",
    "import re\n",
    "import requests\n",
    "from bs4 import BeautifulSoup\n",
    "import matplotlib.pyplot as plt\n",
    "import matplotlib\n",
    "\n",
    "matplotlib.style.use('ggplot')\n",
    "% matplotlib inline"
   ]
  },
  {
   "cell_type": "code",
   "execution_count": 4,
   "metadata": {
    "collapsed": false,
    "scrolled": true
   },
   "outputs": [
    {
     "data": {
      "text/html": [
       "<div>\n",
       "<table border=\"1\" class=\"dataframe\">\n",
       "  <thead>\n",
       "    <tr style=\"text-align: right;\">\n",
       "      <th></th>\n",
       "      <th>jobtitle</th>\n",
       "      <th>company</th>\n",
       "      <th>city</th>\n",
       "      <th>state</th>\n",
       "      <th>date</th>\n",
       "      <th>snippet</th>\n",
       "      <th>url</th>\n",
       "      <th>latitude</th>\n",
       "      <th>longitude</th>\n",
       "      <th>formattedRelativeTime</th>\n",
       "    </tr>\n",
       "  </thead>\n",
       "  <tbody>\n",
       "    <tr>\n",
       "      <th>0</th>\n",
       "      <td>Distribution Data Analyst</td>\n",
       "      <td>SmartPractice</td>\n",
       "      <td>Phoenix</td>\n",
       "      <td>AZ</td>\n",
       "      <td>Wed, 23 Dec 2015 20:12:42 GMT</td>\n",
       "      <td>We are currently seeking a Distribution Data A...</td>\n",
       "      <td>http://www.indeed.com/viewjob?jk=5926dd93beecf...</td>\n",
       "      <td>33.447803</td>\n",
       "      <td>-112.07143</td>\n",
       "      <td>2 days ago</td>\n",
       "    </tr>\n",
       "    <tr>\n",
       "      <th>1</th>\n",
       "      <td>Data Analyst</td>\n",
       "      <td>America's Tire</td>\n",
       "      <td>Scottsdale</td>\n",
       "      <td>AZ</td>\n",
       "      <td>Thu, 24 Dec 2015 11:58:21 GMT</td>\n",
       "      <td>A Data Analyst designs and provides reports pe...</td>\n",
       "      <td>http://www.indeed.com/viewjob?jk=5ed1721e96842...</td>\n",
       "      <td>33.508244</td>\n",
       "      <td>-111.89561</td>\n",
       "      <td>2 days ago</td>\n",
       "    </tr>\n",
       "    <tr>\n",
       "      <th>2</th>\n",
       "      <td>Data Analyst</td>\n",
       "      <td>Kaiser Permanente</td>\n",
       "      <td>Oakland</td>\n",
       "      <td>CA</td>\n",
       "      <td>Fri, 25 Dec 2015 13:57:02 GMT</td>\n",
       "      <td>Determines appropriate sources to obtain data ...</td>\n",
       "      <td>http://www.indeed.com/viewjob?jk=7f63d35c5029d...</td>\n",
       "      <td>37.802197</td>\n",
       "      <td>-122.26923</td>\n",
       "      <td>1 day ago</td>\n",
       "    </tr>\n",
       "    <tr>\n",
       "      <th>3</th>\n",
       "      <td>Data Analyst</td>\n",
       "      <td>Kaiser Permanente</td>\n",
       "      <td>Rockville</td>\n",
       "      <td>MD</td>\n",
       "      <td>Thu, 24 Dec 2015 21:38:48 GMT</td>\n",
       "      <td>And compiling data from KPHC Clarity, telephon...</td>\n",
       "      <td>http://www.indeed.com/viewjob?jk=791fff33389e5...</td>\n",
       "      <td>39.082417</td>\n",
       "      <td>-77.14835</td>\n",
       "      <td>1 day ago</td>\n",
       "    </tr>\n",
       "    <tr>\n",
       "      <th>4</th>\n",
       "      <td>Data Analyst</td>\n",
       "      <td>Zentek Infosoft, Inc.</td>\n",
       "      <td>Houston</td>\n",
       "      <td>TX</td>\n",
       "      <td>Thu, 24 Dec 2015 04:25:04 GMT</td>\n",
       "      <td>Assist data analyst in mapping task; Data Anal...</td>\n",
       "      <td>http://www.indeed.com/viewjob?jk=f9e144af59993...</td>\n",
       "      <td>29.760988</td>\n",
       "      <td>-95.36264</td>\n",
       "      <td>2 days ago</td>\n",
       "    </tr>\n",
       "  </tbody>\n",
       "</table>\n",
       "</div>"
      ],
      "text/plain": [
       "                    jobtitle                company        city state  \\\n",
       "0  Distribution Data Analyst          SmartPractice     Phoenix    AZ   \n",
       "1               Data Analyst         America's Tire  Scottsdale    AZ   \n",
       "2               Data Analyst      Kaiser Permanente     Oakland    CA   \n",
       "3               Data Analyst      Kaiser Permanente   Rockville    MD   \n",
       "4               Data Analyst  Zentek Infosoft, Inc.     Houston    TX   \n",
       "\n",
       "                            date  \\\n",
       "0  Wed, 23 Dec 2015 20:12:42 GMT   \n",
       "1  Thu, 24 Dec 2015 11:58:21 GMT   \n",
       "2  Fri, 25 Dec 2015 13:57:02 GMT   \n",
       "3  Thu, 24 Dec 2015 21:38:48 GMT   \n",
       "4  Thu, 24 Dec 2015 04:25:04 GMT   \n",
       "\n",
       "                                             snippet  \\\n",
       "0  We are currently seeking a Distribution Data A...   \n",
       "1  A Data Analyst designs and provides reports pe...   \n",
       "2  Determines appropriate sources to obtain data ...   \n",
       "3  And compiling data from KPHC Clarity, telephon...   \n",
       "4  Assist data analyst in mapping task; Data Anal...   \n",
       "\n",
       "                                                 url   latitude   longitude  \\\n",
       "0  http://www.indeed.com/viewjob?jk=5926dd93beecf...  33.447803  -112.07143   \n",
       "1  http://www.indeed.com/viewjob?jk=5ed1721e96842...  33.508244  -111.89561   \n",
       "2  http://www.indeed.com/viewjob?jk=7f63d35c5029d...  37.802197  -122.26923   \n",
       "3  http://www.indeed.com/viewjob?jk=791fff33389e5...  39.082417   -77.14835   \n",
       "4  http://www.indeed.com/viewjob?jk=f9e144af59993...  29.760988   -95.36264   \n",
       "\n",
       "  formattedRelativeTime  \n",
       "0            2 days ago  \n",
       "1            2 days ago  \n",
       "2             1 day ago  \n",
       "3             1 day ago  \n",
       "4            2 days ago  "
      ]
     },
     "execution_count": 4,
     "metadata": {},
     "output_type": "execute_result"
    }
   ],
   "source": [
    "# indeed API has already removed the duplicate positions\n",
    "df = pd.read_csv('indeed_jobs.txt', sep='|')\n",
    "df.head(5)"
   ]
  },
  {
   "cell_type": "code",
   "execution_count": 53,
   "metadata": {
    "collapsed": false
   },
   "outputs": [
    {
     "data": {
      "text/html": [
       "<div>\n",
       "<table border=\"1\" class=\"dataframe\">\n",
       "  <thead>\n",
       "    <tr style=\"text-align: right;\">\n",
       "      <th></th>\n",
       "      <th>jobtitle</th>\n",
       "      <th>company</th>\n",
       "      <th>city</th>\n",
       "      <th>state</th>\n",
       "      <th>date</th>\n",
       "      <th>snippet</th>\n",
       "      <th>url</th>\n",
       "      <th>latitude</th>\n",
       "      <th>longitude</th>\n",
       "      <th>formattedRelativeTime</th>\n",
       "    </tr>\n",
       "  </thead>\n",
       "  <tbody>\n",
       "    <tr>\n",
       "      <th>0</th>\n",
       "      <td>Distribution Data Analyst</td>\n",
       "      <td>SmartPractice</td>\n",
       "      <td>Phoenix</td>\n",
       "      <td>AZ</td>\n",
       "      <td>Wed, 23 Dec 2015 20:12:42 GMT</td>\n",
       "      <td>We are currently seeking a Distribution Data A...</td>\n",
       "      <td>http://www.indeed.com/viewjob?jk=5926dd93beecf...</td>\n",
       "      <td>33.447803</td>\n",
       "      <td>-112.07143</td>\n",
       "      <td>2 days ago</td>\n",
       "    </tr>\n",
       "    <tr>\n",
       "      <th>1</th>\n",
       "      <td>Data Analyst</td>\n",
       "      <td>America's Tire</td>\n",
       "      <td>Scottsdale</td>\n",
       "      <td>AZ</td>\n",
       "      <td>Thu, 24 Dec 2015 11:58:21 GMT</td>\n",
       "      <td>A Data Analyst designs and provides reports pe...</td>\n",
       "      <td>http://www.indeed.com/viewjob?jk=5ed1721e96842...</td>\n",
       "      <td>33.508244</td>\n",
       "      <td>-111.89561</td>\n",
       "      <td>2 days ago</td>\n",
       "    </tr>\n",
       "    <tr>\n",
       "      <th>2</th>\n",
       "      <td>Data Analyst</td>\n",
       "      <td>Kaiser Permanente</td>\n",
       "      <td>Oakland</td>\n",
       "      <td>CA</td>\n",
       "      <td>Fri, 25 Dec 2015 13:57:02 GMT</td>\n",
       "      <td>Determines appropriate sources to obtain data ...</td>\n",
       "      <td>http://www.indeed.com/viewjob?jk=7f63d35c5029d...</td>\n",
       "      <td>37.802197</td>\n",
       "      <td>-122.26923</td>\n",
       "      <td>1 day ago</td>\n",
       "    </tr>\n",
       "    <tr>\n",
       "      <th>3</th>\n",
       "      <td>Data Analyst</td>\n",
       "      <td>Kaiser Permanente</td>\n",
       "      <td>Rockville</td>\n",
       "      <td>MD</td>\n",
       "      <td>Thu, 24 Dec 2015 21:38:48 GMT</td>\n",
       "      <td>And compiling data from KPHC Clarity, telephon...</td>\n",
       "      <td>http://www.indeed.com/viewjob?jk=791fff33389e5...</td>\n",
       "      <td>39.082417</td>\n",
       "      <td>-77.14835</td>\n",
       "      <td>1 day ago</td>\n",
       "    </tr>\n",
       "    <tr>\n",
       "      <th>4</th>\n",
       "      <td>Data Analyst</td>\n",
       "      <td>Zentek Infosoft, Inc.</td>\n",
       "      <td>Houston</td>\n",
       "      <td>TX</td>\n",
       "      <td>Thu, 24 Dec 2015 04:25:04 GMT</td>\n",
       "      <td>Assist data analyst in mapping task; Data Anal...</td>\n",
       "      <td>http://www.indeed.com/viewjob?jk=f9e144af59993...</td>\n",
       "      <td>29.760988</td>\n",
       "      <td>-95.36264</td>\n",
       "      <td>2 days ago</td>\n",
       "    </tr>\n",
       "  </tbody>\n",
       "</table>\n",
       "</div>"
      ],
      "text/plain": [
       "                    jobtitle                company        city state  \\\n",
       "0  Distribution Data Analyst          SmartPractice     Phoenix    AZ   \n",
       "1               Data Analyst         America's Tire  Scottsdale    AZ   \n",
       "2               Data Analyst      Kaiser Permanente     Oakland    CA   \n",
       "3               Data Analyst      Kaiser Permanente   Rockville    MD   \n",
       "4               Data Analyst  Zentek Infosoft, Inc.     Houston    TX   \n",
       "\n",
       "                            date  \\\n",
       "0  Wed, 23 Dec 2015 20:12:42 GMT   \n",
       "1  Thu, 24 Dec 2015 11:58:21 GMT   \n",
       "2  Fri, 25 Dec 2015 13:57:02 GMT   \n",
       "3  Thu, 24 Dec 2015 21:38:48 GMT   \n",
       "4  Thu, 24 Dec 2015 04:25:04 GMT   \n",
       "\n",
       "                                             snippet  \\\n",
       "0  We are currently seeking a Distribution Data A...   \n",
       "1  A Data Analyst designs and provides reports pe...   \n",
       "2  Determines appropriate sources to obtain data ...   \n",
       "3  And compiling data from KPHC Clarity, telephon...   \n",
       "4  Assist data analyst in mapping task; Data Anal...   \n",
       "\n",
       "                                                 url   latitude   longitude  \\\n",
       "0  http://www.indeed.com/viewjob?jk=5926dd93beecf...  33.447803  -112.07143   \n",
       "1  http://www.indeed.com/viewjob?jk=5ed1721e96842...  33.508244  -111.89561   \n",
       "2  http://www.indeed.com/viewjob?jk=7f63d35c5029d...  37.802197  -122.26923   \n",
       "3  http://www.indeed.com/viewjob?jk=791fff33389e5...  39.082417   -77.14835   \n",
       "4  http://www.indeed.com/viewjob?jk=f9e144af59993...  29.760988   -95.36264   \n",
       "\n",
       "  formattedRelativeTime  \n",
       "0            2 days ago  \n",
       "1            2 days ago  \n",
       "2             1 day ago  \n",
       "3             1 day ago  \n",
       "4            2 days ago  "
      ]
     },
     "execution_count": 53,
     "metadata": {},
     "output_type": "execute_result"
    }
   ],
   "source": [
    "p = re.compile(r'/')\n",
    "df['jobtitle'] = df['jobtitle'].map(lambda x: p.sub(' ', x))\n",
    "df['company'] = df['company'].map(lambda x: p.sub(' ', x))"
   ]
  },
  {
   "cell_type": "code",
   "execution_count": 3,
   "metadata": {
    "collapsed": false
   },
   "outputs": [],
   "source": [
    "viz_data = df[['jobtitle', 'company', 'state', 'latitude', 'longitude']]\n",
    "viz_data.to_csv('viz_data.csv')"
   ]
  },
  {
   "cell_type": "code",
   "execution_count": 8,
   "metadata": {
    "collapsed": false,
    "scrolled": false
   },
   "outputs": [
    {
     "data": {
      "text/plain": [
       "jobtitle\n",
       "Business Analyst                       9106\n",
       "Data Analyst                           5448\n",
       "Marketing Analyst                      3804\n",
       "Senior Data Analyst                    2993\n",
       "Contract Analyst                       2992\n",
       "Fraud Analyst                          2992\n",
       "Market Research Principal Analyst      2991\n",
       "Data Analyst - Choice Neighborhoods    2991\n",
       "College Budget Analyst                 2991\n",
       "BI Analyst                             2991\n",
       "Name: jobtitle, dtype: int64"
      ]
     },
     "execution_count": 8,
     "metadata": {},
     "output_type": "execute_result"
    }
   ],
   "source": [
    "titles =  df.groupby('jobtitle')['jobtitle'].count().sort_values(ascending=False)\n",
    "titles.head(10)"
   ]
  },
  {
   "cell_type": "code",
   "execution_count": 41,
   "metadata": {
    "collapsed": false
   },
   "outputs": [
    {
     "data": {
      "text/html": [
       "<div>\n",
       "<table border=\"1\" class=\"dataframe\">\n",
       "  <thead>\n",
       "    <tr style=\"text-align: right;\">\n",
       "      <th></th>\n",
       "      <th>jobtitle</th>\n",
       "      <th>company</th>\n",
       "      <th>city</th>\n",
       "      <th>state</th>\n",
       "      <th>date</th>\n",
       "      <th>snippet</th>\n",
       "      <th>url</th>\n",
       "      <th>latitude</th>\n",
       "      <th>longitude</th>\n",
       "      <th>formattedRelativeTime</th>\n",
       "    </tr>\n",
       "  </thead>\n",
       "  <tbody>\n",
       "    <tr>\n",
       "      <th>4</th>\n",
       "      <td>Data Analyst</td>\n",
       "      <td>Zentek Infosoft, Inc.</td>\n",
       "      <td>Houston</td>\n",
       "      <td>TX</td>\n",
       "      <td>Thu, 24 Dec 2015 04:25:04 GMT</td>\n",
       "      <td>Assist data analyst in mapping task; Data Anal...</td>\n",
       "      <td>http://www.indeed.com/viewjob?jk=f9e144af59993...</td>\n",
       "      <td>29.760988</td>\n",
       "      <td>-95.36264</td>\n",
       "      <td>2 days ago</td>\n",
       "    </tr>\n",
       "    <tr>\n",
       "      <th>36</th>\n",
       "      <td>Junior Analyst</td>\n",
       "      <td>W2O Group</td>\n",
       "      <td>Austin</td>\n",
       "      <td>TX</td>\n",
       "      <td>Fri, 25 Dec 2015 07:44:06 GMT</td>\n",
       "      <td>Research and gather data for more experienced ...</td>\n",
       "      <td>http://www.indeed.com/viewjob?jk=82b103ff082b1...</td>\n",
       "      <td>30.266483</td>\n",
       "      <td>-97.74176</td>\n",
       "      <td>1 day ago</td>\n",
       "    </tr>\n",
       "  </tbody>\n",
       "</table>\n",
       "</div>"
      ],
      "text/plain": [
       "          jobtitle                company     city state  \\\n",
       "4     Data Analyst  Zentek Infosoft, Inc.  Houston    TX   \n",
       "36  Junior Analyst              W2O Group   Austin    TX   \n",
       "\n",
       "                             date  \\\n",
       "4   Thu, 24 Dec 2015 04:25:04 GMT   \n",
       "36  Fri, 25 Dec 2015 07:44:06 GMT   \n",
       "\n",
       "                                              snippet  \\\n",
       "4   Assist data analyst in mapping task; Data Anal...   \n",
       "36  Research and gather data for more experienced ...   \n",
       "\n",
       "                                                  url   latitude  longitude  \\\n",
       "4   http://www.indeed.com/viewjob?jk=f9e144af59993...  29.760988  -95.36264   \n",
       "36  http://www.indeed.com/viewjob?jk=82b103ff082b1...  30.266483  -97.74176   \n",
       "\n",
       "   formattedRelativeTime  \n",
       "4             2 days ago  \n",
       "36             1 day ago  "
      ]
     },
     "execution_count": 41,
     "metadata": {},
     "output_type": "execute_result"
    }
   ],
   "source": [
    "tx_jobs = df[df['state']=='TX']\n",
    "tx_jobs.head(2)"
   ]
  },
  {
   "cell_type": "code",
   "execution_count": 64,
   "metadata": {
    "collapsed": false
   },
   "outputs": [
    {
     "ename": "KeyboardInterrupt",
     "evalue": "",
     "output_type": "error",
     "traceback": [
      "\u001b[0;31m---------------------------------------------------------------------------\u001b[0m",
      "\u001b[0;31mKeyboardInterrupt\u001b[0m                         Traceback (most recent call last)",
      "\u001b[0;32m<ipython-input-64-748a2e4a8ef3>\u001b[0m in \u001b[0;36m<module>\u001b[0;34m()\u001b[0m\n\u001b[1;32m     20\u001b[0m                 \u001b[0mf\u001b[0m\u001b[0;34m.\u001b[0m\u001b[0mwrite\u001b[0m\u001b[0;34m(\u001b[0m\u001b[0mtext\u001b[0m\u001b[0;34m)\u001b[0m\u001b[0;34m\u001b[0m\u001b[0m\n\u001b[1;32m     21\u001b[0m \u001b[0;34m\u001b[0m\u001b[0m\n\u001b[0;32m---> 22\u001b[0;31m \u001b[0mextract_text\u001b[0m\u001b[0;34m(\u001b[0m\u001b[0;34m)\u001b[0m\u001b[0;34m\u001b[0m\u001b[0m\n\u001b[0m",
      "\u001b[0;32m<ipython-input-64-748a2e4a8ef3>\u001b[0m in \u001b[0;36mextract_text\u001b[0;34m()\u001b[0m\n\u001b[1;32m     13\u001b[0m         \u001b[0;32mif\u001b[0m \u001b[0mr\u001b[0m\u001b[0;34m.\u001b[0m\u001b[0mstatus_code\u001b[0m \u001b[0;34m==\u001b[0m \u001b[0;36m200\u001b[0m\u001b[0;34m:\u001b[0m\u001b[0;34m\u001b[0m\u001b[0m\n\u001b[1;32m     14\u001b[0m             \u001b[0mg\u001b[0m \u001b[0;34m=\u001b[0m \u001b[0mGoose\u001b[0m\u001b[0;34m(\u001b[0m\u001b[0;34m)\u001b[0m\u001b[0;34m\u001b[0m\u001b[0m\n\u001b[0;32m---> 15\u001b[0;31m             \u001b[0mcontent\u001b[0m \u001b[0;34m=\u001b[0m \u001b[0mg\u001b[0m\u001b[0;34m.\u001b[0m\u001b[0mextract\u001b[0m\u001b[0;34m(\u001b[0m\u001b[0murl\u001b[0m\u001b[0;34m=\u001b[0m\u001b[0murl\u001b[0m\u001b[0;34m)\u001b[0m\u001b[0;34m\u001b[0m\u001b[0m\n\u001b[0m\u001b[1;32m     16\u001b[0m             \u001b[0mtitle\u001b[0m \u001b[0;34m=\u001b[0m \u001b[0mcontent\u001b[0m\u001b[0;34m.\u001b[0m\u001b[0mtitle\u001b[0m\u001b[0;34m\u001b[0m\u001b[0m\n\u001b[1;32m     17\u001b[0m             \u001b[0mtext\u001b[0m \u001b[0;34m=\u001b[0m \u001b[0mcontent\u001b[0m\u001b[0;34m.\u001b[0m\u001b[0mcleaned_text\u001b[0m\u001b[0;34m\u001b[0m\u001b[0m\n",
      "\u001b[0;32m/Users/apple/anaconda/lib/python2.7/site-packages/goose_extractor-1.0.25-py2.7.egg/goose/__init__.pyc\u001b[0m in \u001b[0;36mextract\u001b[0;34m(self, url, raw_html)\u001b[0m\n\u001b[1;32m     54\u001b[0m         \"\"\"\n\u001b[1;32m     55\u001b[0m         \u001b[0mcc\u001b[0m \u001b[0;34m=\u001b[0m \u001b[0mCrawlCandidate\u001b[0m\u001b[0;34m(\u001b[0m\u001b[0mself\u001b[0m\u001b[0;34m.\u001b[0m\u001b[0mconfig\u001b[0m\u001b[0;34m,\u001b[0m \u001b[0murl\u001b[0m\u001b[0;34m,\u001b[0m \u001b[0mraw_html\u001b[0m\u001b[0;34m)\u001b[0m\u001b[0;34m\u001b[0m\u001b[0m\n\u001b[0;32m---> 56\u001b[0;31m         \u001b[0;32mreturn\u001b[0m \u001b[0mself\u001b[0m\u001b[0;34m.\u001b[0m\u001b[0mcrawl\u001b[0m\u001b[0;34m(\u001b[0m\u001b[0mcc\u001b[0m\u001b[0;34m)\u001b[0m\u001b[0;34m\u001b[0m\u001b[0m\n\u001b[0m\u001b[1;32m     57\u001b[0m \u001b[0;34m\u001b[0m\u001b[0m\n\u001b[1;32m     58\u001b[0m     \u001b[0;32mdef\u001b[0m \u001b[0mshutdown_network\u001b[0m\u001b[0;34m(\u001b[0m\u001b[0mself\u001b[0m\u001b[0;34m)\u001b[0m\u001b[0;34m:\u001b[0m\u001b[0;34m\u001b[0m\u001b[0m\n",
      "\u001b[0;32m/Users/apple/anaconda/lib/python2.7/site-packages/goose_extractor-1.0.25-py2.7.egg/goose/__init__.pyc\u001b[0m in \u001b[0;36mcrawl\u001b[0;34m(self, crawl_candiate)\u001b[0m\n\u001b[1;32m     64\u001b[0m         \u001b[0;32mtry\u001b[0m\u001b[0;34m:\u001b[0m\u001b[0;34m\u001b[0m\u001b[0m\n\u001b[1;32m     65\u001b[0m             \u001b[0mcrawler\u001b[0m \u001b[0;34m=\u001b[0m \u001b[0mCrawler\u001b[0m\u001b[0;34m(\u001b[0m\u001b[0mself\u001b[0m\u001b[0;34m.\u001b[0m\u001b[0mconfig\u001b[0m\u001b[0;34m)\u001b[0m\u001b[0;34m\u001b[0m\u001b[0m\n\u001b[0;32m---> 66\u001b[0;31m             \u001b[0marticle\u001b[0m \u001b[0;34m=\u001b[0m \u001b[0mcrawler\u001b[0m\u001b[0;34m.\u001b[0m\u001b[0mcrawl\u001b[0m\u001b[0;34m(\u001b[0m\u001b[0mcrawl_candiate\u001b[0m\u001b[0;34m)\u001b[0m\u001b[0;34m\u001b[0m\u001b[0m\n\u001b[0m\u001b[1;32m     67\u001b[0m         \u001b[0;32mexcept\u001b[0m \u001b[0;34m(\u001b[0m\u001b[0mUnicodeDecodeError\u001b[0m\u001b[0;34m,\u001b[0m \u001b[0mValueError\u001b[0m\u001b[0;34m)\u001b[0m\u001b[0;34m:\u001b[0m\u001b[0;34m\u001b[0m\u001b[0m\n\u001b[1;32m     68\u001b[0m             \u001b[0mself\u001b[0m\u001b[0;34m.\u001b[0m\u001b[0mconfig\u001b[0m\u001b[0;34m.\u001b[0m\u001b[0mparser_class\u001b[0m \u001b[0;34m=\u001b[0m \u001b[0mparsers\u001b[0m\u001b[0;34m[\u001b[0m\u001b[0;36m0\u001b[0m\u001b[0;34m]\u001b[0m\u001b[0;34m\u001b[0m\u001b[0m\n",
      "\u001b[0;32m/Users/apple/anaconda/lib/python2.7/site-packages/goose_extractor-1.0.25-py2.7.egg/goose/crawler.pyc\u001b[0m in \u001b[0;36mcrawl\u001b[0;34m(self, crawl_candidate)\u001b[0m\n\u001b[1;32m    115\u001b[0m \u001b[0;34m\u001b[0m\u001b[0m\n\u001b[1;32m    116\u001b[0m         \u001b[0;31m# raw html\u001b[0m\u001b[0;34m\u001b[0m\u001b[0;34m\u001b[0m\u001b[0m\n\u001b[0;32m--> 117\u001b[0;31m         \u001b[0mraw_html\u001b[0m \u001b[0;34m=\u001b[0m \u001b[0mself\u001b[0m\u001b[0;34m.\u001b[0m\u001b[0mget_html\u001b[0m\u001b[0;34m(\u001b[0m\u001b[0mcrawl_candidate\u001b[0m\u001b[0;34m,\u001b[0m \u001b[0mparse_candidate\u001b[0m\u001b[0;34m)\u001b[0m\u001b[0;34m\u001b[0m\u001b[0m\n\u001b[0m\u001b[1;32m    118\u001b[0m \u001b[0;34m\u001b[0m\u001b[0m\n\u001b[1;32m    119\u001b[0m         \u001b[0;32mif\u001b[0m \u001b[0mraw_html\u001b[0m \u001b[0;32mis\u001b[0m \u001b[0mNone\u001b[0m\u001b[0;34m:\u001b[0m\u001b[0;34m\u001b[0m\u001b[0m\n",
      "\u001b[0;32m/Users/apple/anaconda/lib/python2.7/site-packages/goose_extractor-1.0.25-py2.7.egg/goose/crawler.pyc\u001b[0m in \u001b[0;36mget_html\u001b[0;34m(self, crawl_candidate, parsing_candidate)\u001b[0m\n\u001b[1;32m    213\u001b[0m \u001b[0;34m\u001b[0m\u001b[0m\n\u001b[1;32m    214\u001b[0m         \u001b[0;31m# fetch HTML\u001b[0m\u001b[0;34m\u001b[0m\u001b[0;34m\u001b[0m\u001b[0m\n\u001b[0;32m--> 215\u001b[0;31m         \u001b[0mhtml\u001b[0m \u001b[0;34m=\u001b[0m \u001b[0mself\u001b[0m\u001b[0;34m.\u001b[0m\u001b[0mhtmlfetcher\u001b[0m\u001b[0;34m.\u001b[0m\u001b[0mget_html\u001b[0m\u001b[0;34m(\u001b[0m\u001b[0mparsing_candidate\u001b[0m\u001b[0;34m.\u001b[0m\u001b[0murl\u001b[0m\u001b[0;34m)\u001b[0m\u001b[0;34m\u001b[0m\u001b[0m\n\u001b[0m\u001b[1;32m    216\u001b[0m         self.article.additional_data.update({\n\u001b[1;32m    217\u001b[0m             \u001b[0;34m'request'\u001b[0m\u001b[0;34m:\u001b[0m \u001b[0mself\u001b[0m\u001b[0;34m.\u001b[0m\u001b[0mhtmlfetcher\u001b[0m\u001b[0;34m.\u001b[0m\u001b[0mrequest\u001b[0m\u001b[0;34m,\u001b[0m\u001b[0;34m\u001b[0m\u001b[0m\n",
      "\u001b[0;32m/Users/apple/anaconda/lib/python2.7/site-packages/goose_extractor-1.0.25-py2.7.egg/goose/network.pyc\u001b[0m in \u001b[0;36mget_html\u001b[0;34m(self, url)\u001b[0m\n\u001b[1;32m     57\u001b[0m         \u001b[0;31m# read the result content\u001b[0m\u001b[0;34m\u001b[0m\u001b[0;34m\u001b[0m\u001b[0m\n\u001b[1;32m     58\u001b[0m         \u001b[0;32mif\u001b[0m \u001b[0mself\u001b[0m\u001b[0;34m.\u001b[0m\u001b[0mresult\u001b[0m \u001b[0;32mis\u001b[0m \u001b[0;32mnot\u001b[0m \u001b[0mNone\u001b[0m\u001b[0;34m:\u001b[0m\u001b[0;34m\u001b[0m\u001b[0m\n\u001b[0;32m---> 59\u001b[0;31m             \u001b[0;32mreturn\u001b[0m \u001b[0mself\u001b[0m\u001b[0;34m.\u001b[0m\u001b[0mresult\u001b[0m\u001b[0;34m.\u001b[0m\u001b[0mread\u001b[0m\u001b[0;34m(\u001b[0m\u001b[0;34m)\u001b[0m\u001b[0;34m\u001b[0m\u001b[0m\n\u001b[0m\u001b[1;32m     60\u001b[0m         \u001b[0;32mreturn\u001b[0m \u001b[0mNone\u001b[0m\u001b[0;34m\u001b[0m\u001b[0m\n",
      "\u001b[0;32m/Users/apple/anaconda/lib/python2.7/socket.pyc\u001b[0m in \u001b[0;36mread\u001b[0;34m(self, size)\u001b[0m\n\u001b[1;32m    353\u001b[0m             \u001b[0;32mwhile\u001b[0m \u001b[0mTrue\u001b[0m\u001b[0;34m:\u001b[0m\u001b[0;34m\u001b[0m\u001b[0m\n\u001b[1;32m    354\u001b[0m                 \u001b[0;32mtry\u001b[0m\u001b[0;34m:\u001b[0m\u001b[0;34m\u001b[0m\u001b[0m\n\u001b[0;32m--> 355\u001b[0;31m                     \u001b[0mdata\u001b[0m \u001b[0;34m=\u001b[0m \u001b[0mself\u001b[0m\u001b[0;34m.\u001b[0m\u001b[0m_sock\u001b[0m\u001b[0;34m.\u001b[0m\u001b[0mrecv\u001b[0m\u001b[0;34m(\u001b[0m\u001b[0mrbufsize\u001b[0m\u001b[0;34m)\u001b[0m\u001b[0;34m\u001b[0m\u001b[0m\n\u001b[0m\u001b[1;32m    356\u001b[0m                 \u001b[0;32mexcept\u001b[0m \u001b[0merror\u001b[0m\u001b[0;34m,\u001b[0m \u001b[0me\u001b[0m\u001b[0;34m:\u001b[0m\u001b[0;34m\u001b[0m\u001b[0m\n\u001b[1;32m    357\u001b[0m                     \u001b[0;32mif\u001b[0m \u001b[0me\u001b[0m\u001b[0;34m.\u001b[0m\u001b[0margs\u001b[0m\u001b[0;34m[\u001b[0m\u001b[0;36m0\u001b[0m\u001b[0;34m]\u001b[0m \u001b[0;34m==\u001b[0m \u001b[0mEINTR\u001b[0m\u001b[0;34m:\u001b[0m\u001b[0;34m\u001b[0m\u001b[0m\n",
      "\u001b[0;32m/Users/apple/anaconda/lib/python2.7/httplib.pyc\u001b[0m in \u001b[0;36mread\u001b[0;34m(self, amt)\u001b[0m\n\u001b[1;32m    586\u001b[0m \u001b[0;34m\u001b[0m\u001b[0m\n\u001b[1;32m    587\u001b[0m         \u001b[0;32mif\u001b[0m \u001b[0mself\u001b[0m\u001b[0;34m.\u001b[0m\u001b[0mchunked\u001b[0m\u001b[0;34m:\u001b[0m\u001b[0;34m\u001b[0m\u001b[0m\n\u001b[0;32m--> 588\u001b[0;31m             \u001b[0;32mreturn\u001b[0m \u001b[0mself\u001b[0m\u001b[0;34m.\u001b[0m\u001b[0m_read_chunked\u001b[0m\u001b[0;34m(\u001b[0m\u001b[0mamt\u001b[0m\u001b[0;34m)\u001b[0m\u001b[0;34m\u001b[0m\u001b[0m\n\u001b[0m\u001b[1;32m    589\u001b[0m \u001b[0;34m\u001b[0m\u001b[0m\n\u001b[1;32m    590\u001b[0m         \u001b[0;32mif\u001b[0m \u001b[0mamt\u001b[0m \u001b[0;32mis\u001b[0m \u001b[0mNone\u001b[0m\u001b[0;34m:\u001b[0m\u001b[0;34m\u001b[0m\u001b[0m\n",
      "\u001b[0;32m/Users/apple/anaconda/lib/python2.7/httplib.pyc\u001b[0m in \u001b[0;36m_read_chunked\u001b[0;34m(self, amt)\u001b[0m\n\u001b[1;32m    628\u001b[0m         \u001b[0;32mwhile\u001b[0m \u001b[0mTrue\u001b[0m\u001b[0;34m:\u001b[0m\u001b[0;34m\u001b[0m\u001b[0m\n\u001b[1;32m    629\u001b[0m             \u001b[0;32mif\u001b[0m \u001b[0mchunk_left\u001b[0m \u001b[0;32mis\u001b[0m \u001b[0mNone\u001b[0m\u001b[0;34m:\u001b[0m\u001b[0;34m\u001b[0m\u001b[0m\n\u001b[0;32m--> 630\u001b[0;31m                 \u001b[0mline\u001b[0m \u001b[0;34m=\u001b[0m \u001b[0mself\u001b[0m\u001b[0;34m.\u001b[0m\u001b[0mfp\u001b[0m\u001b[0;34m.\u001b[0m\u001b[0mreadline\u001b[0m\u001b[0;34m(\u001b[0m\u001b[0m_MAXLINE\u001b[0m \u001b[0;34m+\u001b[0m \u001b[0;36m1\u001b[0m\u001b[0;34m)\u001b[0m\u001b[0;34m\u001b[0m\u001b[0m\n\u001b[0m\u001b[1;32m    631\u001b[0m                 \u001b[0;32mif\u001b[0m \u001b[0mlen\u001b[0m\u001b[0;34m(\u001b[0m\u001b[0mline\u001b[0m\u001b[0;34m)\u001b[0m \u001b[0;34m>\u001b[0m \u001b[0m_MAXLINE\u001b[0m\u001b[0;34m:\u001b[0m\u001b[0;34m\u001b[0m\u001b[0m\n\u001b[1;32m    632\u001b[0m                     \u001b[0;32mraise\u001b[0m \u001b[0mLineTooLong\u001b[0m\u001b[0;34m(\u001b[0m\u001b[0;34m\"chunk size\"\u001b[0m\u001b[0;34m)\u001b[0m\u001b[0;34m\u001b[0m\u001b[0m\n",
      "\u001b[0;32m/Users/apple/anaconda/lib/python2.7/socket.pyc\u001b[0m in \u001b[0;36mreadline\u001b[0;34m(self, size)\u001b[0m\n\u001b[1;32m    478\u001b[0m             \u001b[0;32mwhile\u001b[0m \u001b[0mTrue\u001b[0m\u001b[0;34m:\u001b[0m\u001b[0;34m\u001b[0m\u001b[0m\n\u001b[1;32m    479\u001b[0m                 \u001b[0;32mtry\u001b[0m\u001b[0;34m:\u001b[0m\u001b[0;34m\u001b[0m\u001b[0m\n\u001b[0;32m--> 480\u001b[0;31m                     \u001b[0mdata\u001b[0m \u001b[0;34m=\u001b[0m \u001b[0mself\u001b[0m\u001b[0;34m.\u001b[0m\u001b[0m_sock\u001b[0m\u001b[0;34m.\u001b[0m\u001b[0mrecv\u001b[0m\u001b[0;34m(\u001b[0m\u001b[0mself\u001b[0m\u001b[0;34m.\u001b[0m\u001b[0m_rbufsize\u001b[0m\u001b[0;34m)\u001b[0m\u001b[0;34m\u001b[0m\u001b[0m\n\u001b[0m\u001b[1;32m    481\u001b[0m                 \u001b[0;32mexcept\u001b[0m \u001b[0merror\u001b[0m\u001b[0;34m,\u001b[0m \u001b[0me\u001b[0m\u001b[0;34m:\u001b[0m\u001b[0;34m\u001b[0m\u001b[0m\n\u001b[1;32m    482\u001b[0m                     \u001b[0;32mif\u001b[0m \u001b[0me\u001b[0m\u001b[0;34m.\u001b[0m\u001b[0margs\u001b[0m\u001b[0;34m[\u001b[0m\u001b[0;36m0\u001b[0m\u001b[0;34m]\u001b[0m \u001b[0;34m==\u001b[0m \u001b[0mEINTR\u001b[0m\u001b[0;34m:\u001b[0m\u001b[0;34m\u001b[0m\u001b[0m\n",
      "\u001b[0;31mKeyboardInterrupt\u001b[0m: "
     ]
    }
   ],
   "source": [
    "from goose import Goose\n",
    "import codecs\n",
    "import os\n",
    "\n",
    "def extract_text():\n",
    "    \n",
    "\n",
    "    target_dir = '/Users/apple/Documents/notes-and-projects/projects/Define_Data_Analyst/job_description/'\n",
    "    \n",
    "    for i in range(11966, len(df['url'])):\n",
    "        url = df['url'][i]\n",
    "        r = requests.get(url)\n",
    "        if r.status_code == 200:\n",
    "            g = Goose()\n",
    "            content = g.extract(url=url)\n",
    "            title = content.title\n",
    "            text = content.cleaned_text\n",
    "            \n",
    "            with codecs.open(''.join(target_dir+str(i)+'.txt'), 'w+', 'utf-8') as f:\n",
    "                f.write(text)\n",
    "\n",
    "extract_text()       "
   ]
  },
  {
   "cell_type": "code",
   "execution_count": null,
   "metadata": {
    "collapsed": true
   },
   "outputs": [],
   "source": [
    "has_py_sql = re.compile(r'(python|sql)', re.IGNORECASE)\n",
    "\n",
    "\n",
    "\n",
    "python_jobs = []\n",
    "sql_jobs = []"
   ]
  },
  {
   "cell_type": "code",
   "execution_count": 46,
   "metadata": {
    "collapsed": false
   },
   "outputs": [],
   "source": [
    "fi =  ''.join('/Users/apple/Documents/notes-and-projects/projects/Define_Data_Analyst/job_description/'+'1.txt')\n",
    "f = open(fi, 'w')"
   ]
  },
  {
   "cell_type": "code",
   "execution_count": 47,
   "metadata": {
    "collapsed": true
   },
   "outputs": [],
   "source": [
    "f.close()"
   ]
  },
  {
   "cell_type": "code",
   "execution_count": null,
   "metadata": {
    "collapsed": true
   },
   "outputs": [],
   "source": []
  }
 ],
 "metadata": {
  "kernelspec": {
   "display_name": "Python 2",
   "language": "python",
   "name": "python2"
  },
  "language_info": {
   "codemirror_mode": {
    "name": "ipython",
    "version": 2
   },
   "file_extension": ".py",
   "mimetype": "text/x-python",
   "name": "python",
   "nbconvert_exporter": "python",
   "pygments_lexer": "ipython2",
   "version": "2.7.11"
  }
 },
 "nbformat": 4,
 "nbformat_minor": 0
}
