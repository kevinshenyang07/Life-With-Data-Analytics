{
 "cells": [
  {
   "cell_type": "markdown",
   "metadata": {},
   "source": [
    "# Analysis of Relationships and Topics among Tweets and Facebook Posts Associated with specific banks"
   ]
  },
  {
   "cell_type": "markdown",
   "metadata": {},
   "source": [
    "## Questions and Deliverables\n",
    "\n",
    "Q1. What financial topics* do consumers discuss on social media and what caused the consumers to post about this topic? \n",
    "   \n",
    ">   Deliverable A - Describe your Approach and Methodology. Include a visual representation of your analytic process flow. \n",
    "   \n",
    ">   Deliverable B - Discuss the data and its relationship to social conversation drivers. \n",
    "\n",
    ">   Deliverable C - Document your code and reference the analytic process flow-diagram from deliverable A. \n",
    "\n",
    "\n",
    "Q2. Are the topics and “substance” consistent across the industry or are they isolated to individual banks? \n",
    "\n",
    ">   Deliverable D - Create a list of topics and substance you found \n",
    "\n",
    ">   Deliverable E - Create a narrative of insights supported by the quantitative results (should include graphs or charts) "
   ]
  },
  {
   "cell_type": "markdown",
   "metadata": {},
   "source": [
    "#### Metadata:\n",
    "Record Count: 220377\n",
    "\n",
    "Media Type: Facebook & Twitter\n",
    "\n",
    "Timeframe: Twitter data (8/2015) & Facebook data (8/2014 - 8/2015)\n",
    "\n",
    "Scope: Social Media data with query of 4 banks\n",
    "\n",
    "#### Scubbed Data:\n",
    "4 Banks: BankA, BankB, BankC, BankD\n",
    "\n",
    "ADDRESS: All scrubbed addresses are replaced by uppercase ADDRESS. Any occurrence of a lowercase \"address\" is part of the text and is not a scrubbed replacement.\n",
    "\n",
    "Name: All names have been replaced with the lowercase word \"Name\"\n",
    "Internet links\n",
    "\n",
    "INTERNET: All scrubbed INTERNET references are replaced by uppercase INTERNET. Any occurrence of a lowercase \"internet\" is part of the text and is not a scrubbed replacement.\n",
    "\n",
    "twit_hndl: All actual twitter handles \"@\" have been replaced with the lowercase abbreviation \"twit_hndl\". All Bank twitter handles have been replaced with the lowercase abbreviation followed by the respectively Bank \"twit_hndl_BankA\" , \"twit_hndl_BankB\"\n",
    "\n",
    "PHONE: All scrubbed phone numbers are replaced by uppercase PHONE. Any occurrence of a lowercase \"phone\" is part of the text and is not a scrubbed replacement."
   ]
  },
  {
   "cell_type": "code",
   "execution_count": 1,
   "metadata": {
    "collapsed": false
   },
   "outputs": [],
   "source": [
    "import numpy as np\n",
    "import pandas as pd"
   ]
  },
  {
   "cell_type": "code",
   "execution_count": 2,
   "metadata": {
    "collapsed": false
   },
   "outputs": [
    {
     "data": {
      "text/html": [
       "<div>\n",
       "<table border=\"1\" class=\"dataframe\">\n",
       "  <thead>\n",
       "    <tr style=\"text-align: right;\">\n",
       "      <th></th>\n",
       "      <th>AutoID</th>\n",
       "      <th>Date</th>\n",
       "      <th>Year</th>\n",
       "      <th>Month</th>\n",
       "      <th>MediaType</th>\n",
       "      <th>FullText</th>\n",
       "    </tr>\n",
       "  </thead>\n",
       "  <tbody>\n",
       "    <tr>\n",
       "      <th>0</th>\n",
       "      <td>1</td>\n",
       "      <td>8/26/2015</td>\n",
       "      <td>2015</td>\n",
       "      <td>8</td>\n",
       "      <td>twitter</td>\n",
       "      <td>3 ways the internet of things will change Bank...</td>\n",
       "    </tr>\n",
       "    <tr>\n",
       "      <th>1</th>\n",
       "      <td>2</td>\n",
       "      <td>8/5/2015</td>\n",
       "      <td>2015</td>\n",
       "      <td>8</td>\n",
       "      <td>twitter</td>\n",
       "      <td>BankB BankB Name downgrades apple stock to neu...</td>\n",
       "    </tr>\n",
       "    <tr>\n",
       "      <th>2</th>\n",
       "      <td>3</td>\n",
       "      <td>8/12/2015</td>\n",
       "      <td>2015</td>\n",
       "      <td>8</td>\n",
       "      <td>twitter</td>\n",
       "      <td>BankB returns to profit on INTERNET/! board2? ...</td>\n",
       "    </tr>\n",
       "    <tr>\n",
       "      <th>3</th>\n",
       "      <td>4</td>\n",
       "      <td>8/5/2015</td>\n",
       "      <td>2015</td>\n",
       "      <td>8</td>\n",
       "      <td>twitter</td>\n",
       "      <td>BankB tells advisers to exit paulson hedge fun...</td>\n",
       "    </tr>\n",
       "    <tr>\n",
       "      <th>4</th>\n",
       "      <td>5</td>\n",
       "      <td>8/12/2015</td>\n",
       "      <td>2015</td>\n",
       "      <td>8</td>\n",
       "      <td>twitter</td>\n",
       "      <td>BankC may plead guilty over foreign exchange p...</td>\n",
       "    </tr>\n",
       "  </tbody>\n",
       "</table>\n",
       "</div>"
      ],
      "text/plain": [
       "   AutoID       Date  Year  Month MediaType  \\\n",
       "0       1  8/26/2015  2015      8   twitter   \n",
       "1       2   8/5/2015  2015      8   twitter   \n",
       "2       3  8/12/2015  2015      8   twitter   \n",
       "3       4   8/5/2015  2015      8   twitter   \n",
       "4       5  8/12/2015  2015      8   twitter   \n",
       "\n",
       "                                            FullText  \n",
       "0  3 ways the internet of things will change Bank...  \n",
       "1  BankB BankB Name downgrades apple stock to neu...  \n",
       "2  BankB returns to profit on INTERNET/! board2? ...  \n",
       "3  BankB tells advisers to exit paulson hedge fun...  \n",
       "4  BankC may plead guilty over foreign exchange p...  "
      ]
     },
     "execution_count": 2,
     "metadata": {},
     "output_type": "execute_result"
    }
   ],
   "source": [
    "df = pd.read_csv('2015+Wells+Fargo+Campus+Analytic+Challenge+Dataset.txt', sep='|')\n",
    "df.head(5)"
   ]
  },
  {
   "cell_type": "code",
   "execution_count": 3,
   "metadata": {
    "collapsed": true
   },
   "outputs": [],
   "source": [
    "import re\n",
    "\n",
    "# preprocess the scrubbed strings\n",
    "p0 = re.compile(r'ADDRESS|Name|INTERNET|twit_hndl_?|PHONE')\n",
    "pretext = df['FullText'].map(lambda x: p0.sub('', x))"
   ]
  },
  {
   "cell_type": "markdown",
   "metadata": {},
   "source": [
    "## Find the most popular tags"
   ]
  },
  {
   "cell_type": "code",
   "execution_count": 4,
   "metadata": {
    "collapsed": false
   },
   "outputs": [],
   "source": [
    "text0 = pretext.map(lambda t: t.lower())\n",
    "rawtags1 = text0.map(lambda t: re.findall('\\#\\s\\w+', t))\n",
    "rawtags1 = rawtags1.map(lambda t: [w for w in t if w is not None])\n",
    "rawtags2 = []\n",
    "for t in rawtags1:\n",
    "    if len(t) > 0:\n",
    "        for _ in t:\n",
    "            rawtags2.append(_)\n",
    "rawtags3 = list(set(rawtags2))\n",
    "rawtags4 = dict((a, rawtags2.count(a)) for a in rawtags3)\n",
    "hashtags = sorted(rawtags4.iteritems(), key=lambda (k, v): -v)"
   ]
  },
  {
   "cell_type": "code",
   "execution_count": 5,
   "metadata": {
    "collapsed": false
   },
   "outputs": [
    {
     "data": {
      "text/plain": [
       "[('# bankc', 7003),\n",
       " ('# contest', 4685),\n",
       " ('# getcollegeready', 4626),\n",
       " ('# bankb', 3782),\n",
       " ('# banka', 3721),\n",
       " ('# bankd', 3314),\n",
       " ('# finance', 2680),\n",
       " ('# money', 2082),\n",
       " ('# goldmansachs', 1990),\n",
       " ('# wallstreet', 1987),\n",
       " ('# banksters', 1948),\n",
       " ('# economics', 1924),\n",
       " ('# hsbc', 1922),\n",
       " ('# usbank', 1922),\n",
       " ('# morganstanley', 1920),\n",
       " ('# federalreserve', 1915),\n",
       " ('# classwarfare', 1912),\n",
       " ('# financialterrorists', 1910),\n",
       " ('# stocks', 513),\n",
       " ('# business', 488),\n",
       " ('# news', 469),\n",
       " ('# c', 390),\n",
       " ('# realestate', 367),\n",
       " ('# stock', 359),\n",
       " ('# investment', 341),\n",
       " ('# banking', 339),\n",
       " ('# forex', 334),\n",
       " ('# share', 332),\n",
       " ('# acn', 329),\n",
       " ('# smallbiz', 301)]"
      ]
     },
     "execution_count": 5,
     "metadata": {},
     "output_type": "execute_result"
    }
   ],
   "source": [
    "hashtags[:30]"
   ]
  },
  {
   "cell_type": "markdown",
   "metadata": {},
   "source": [
    "Going back to the tweets, the hastags \"contest\" and \"getcollegeready\" always come together, and this campaign certainly draw much attention as the bank would expect. So this campaign is a highlight among the others. Other than that, my first impression is that when people talk about banks, they care about keeping their money safe and their investments increasingly growing up (by talking about ecnomy, stocks, federa reserve, forex, small biz), and there seems be an emotion about the banks as the opposite side of normal ones. I would have expected many hashtags on the services or other campaigns, but we need further tagging process to figure out how these information is related."
   ]
  },
  {
   "cell_type": "code",
   "execution_count": 6,
   "metadata": {
    "collapsed": true
   },
   "outputs": [],
   "source": [
    "# do some viz about dist of hastags among different banks"
   ]
  },
  {
   "cell_type": "markdown",
   "metadata": {},
   "source": [
    "## Prepare the Data Grouped By Banks"
   ]
  },
  {
   "cell_type": "code",
   "execution_count": 7,
   "metadata": {
    "collapsed": false
   },
   "outputs": [
    {
     "data": {
      "text/plain": [
       "0    [3, ways, the, internet, of, things, will, cha...\n",
       "1    [bankb, bankb, downgrades, apple, stock, to, n...\n",
       "2    [bankb, returns, to, profit, on, board2, t, 95...\n",
       "3    [bankb, tells, advisers, to, exit, paulson, he...\n",
       "4    [bankc, may, plead, guilty, over, foreign, exc...\n",
       "Name: FullText, dtype: object"
      ]
     },
     "execution_count": 7,
     "metadata": {},
     "output_type": "execute_result"
    }
   ],
   "source": [
    "text = pretext.map(lambda x: x.lower())\n",
    "text = text.map(lambda x: re.split('\\W+|_+', x, flags=re.IGNORECASE))\n",
    "text.head(5)"
   ]
  },
  {
   "cell_type": "code",
   "execution_count": 8,
   "metadata": {
    "collapsed": false
   },
   "outputs": [],
   "source": [
    "indA = ['banka' in t for t in text]\n",
    "indB = ['bankb' in t for t in text]\n",
    "indC = ['bankc' in t for t in text]\n",
    "indD = ['bankd' in t for t in text]"
   ]
  },
  {
   "cell_type": "code",
   "execution_count": null,
   "metadata": {
    "collapsed": false
   },
   "outputs": [],
   "source": []
  },
  {
   "cell_type": "code",
   "execution_count": 9,
   "metadata": {
    "collapsed": false
   },
   "outputs": [
    {
     "data": {
      "text/plain": [
       "0    [, ways, the, internet, , things, will, change...\n",
       "1    [bankb, bankb, downgrades, apple, stock, , neu...\n",
       "Name: FullText, dtype: object"
      ]
     },
     "execution_count": 9,
     "metadata": {},
     "output_type": "execute_result"
    }
   ],
   "source": [
    "# pre-complie patterns to speed up\n",
    "p1 = re.compile(r\"(RT|via)((?:\\b\\W*@\\w+)+)\")  # remove retweet or via mark\n",
    "p2 = re.compile(r\"@\\w+\")  # remove at mark\n",
    "p3 = re.compile(r\"^[0-9]+$\")  # remove pure numbers\n",
    "p4 = re.compile(r\"http\\w+\")  # remove http address\n",
    "p5 = re.compile(r\"^\\s+|\\s+$\")  # remove space\n",
    "p6 = re.compile(r\"^\\w*(\\w)(\\1){2,}\\w*&\")  # remove repetitive letters\n",
    "p7 = re.compile(r\"^\\w{2}$\")  # remove words with only two letters\n",
    "text = text.map(lambda x: [p1.sub(\"\", t) for t in x])\n",
    "text = text.map(lambda x: [p2.sub(\"\", t) for t in x])\n",
    "text = text.map(lambda x: [p3.sub(\"\", t) for t in x])\n",
    "text = text.map(lambda x: [p4.sub(\"\", t) for t in x])\n",
    "text = text.map(lambda x: [p5.sub(\"\", t) for t in x])\n",
    "text = text.map(lambda x: [p6.sub(\"\", t) for t in x])\n",
    "text = text.map(lambda x: [p7.sub(\"\", t) for t in x])\n",
    "text.head(2)"
   ]
  },
  {
   "cell_type": "code",
   "execution_count": 10,
   "metadata": {
    "collapsed": false
   },
   "outputs": [
    {
     "data": {
      "text/plain": [
       "0    [ways, internet, things, change, 1u5ad88, inte...\n",
       "1    [downgrades, apple, stock, neutral, anticipate...\n",
       "Name: FullText, dtype: object"
      ]
     },
     "execution_count": 10,
     "metadata": {},
     "output_type": "execute_result"
    }
   ],
   "source": [
    "stopwords = pd.read_csv('stopwords.txt')\n",
    "outwords = ['banka','bankb','bankc','bankd','bank','twit','hndl','lol','hey','make','made','name','don','bit','uhijre','ret','bankac','resp','ers','today','ift','dlvr','plc','goo','man','banke','bankds']\n",
    "\n",
    "def rmStopWord(wlist):\n",
    "    return [w for w in wlist if not (w == '' or w in stopwords.values or w in outwords)]     \n",
    "\n",
    "posttext = text.map(lambda x: rmStopWord(x))\n",
    "posttext.head(2)"
   ]
  },
  {
   "cell_type": "markdown",
   "metadata": {},
   "source": [
    "## K-Mean Clustering"
   ]
  },
  {
   "cell_type": "code",
   "execution_count": null,
   "metadata": {
    "collapsed": true
   },
   "outputs": [],
   "source": []
  },
  {
   "cell_type": "code",
   "execution_count": null,
   "metadata": {
    "collapsed": true
   },
   "outputs": [],
   "source": []
  },
  {
   "cell_type": "markdown",
   "metadata": {},
   "source": [
    "## Learn From TF-IDF Matrix"
   ]
  },
  {
   "cell_type": "code",
   "execution_count": 12,
   "metadata": {
    "collapsed": false
   },
   "outputs": [],
   "source": [
    "lines = posttext.map(lambda x: ' '.join(x))"
   ]
  },
  {
   "cell_type": "code",
   "execution_count": 13,
   "metadata": {
    "collapsed": false
   },
   "outputs": [],
   "source": [
    "from sklearn.feature_extraction.text import TfidfVectorizer\n",
    "tfidfvec = TfidfVectorizer(min_df=1)\n",
    "Xtfidf = tfidfvec.fit_transform(lines)"
   ]
  },
  {
   "cell_type": "code",
   "execution_count": 14,
   "metadata": {
    "collapsed": false
   },
   "outputs": [
    {
     "data": {
      "text/plain": [
       "[(u'fawk', 12.609952352206955),\n",
       " (u'zbnlwm1sov5vz', 12.609952352206955),\n",
       " (u'bestcustomerservice', 12.609952352206955),\n",
       " (u'wednesd', 12.609952352206955),\n",
       " (u'33gdrk', 12.609952352206955),\n",
       " (u'kurringaibankd2015', 12.609952352206955),\n",
       " (u'wannaaaa', 12.609952352206955),\n",
       " (u'1j9qzei', 12.609952352206955),\n",
       " (u'aresearch', 12.609952352206955),\n",
       " (u'mumfordandsons', 12.609952352206955)]"
      ]
     },
     "execution_count": 14,
     "metadata": {},
     "output_type": "execute_result"
    }
   ],
   "source": [
    "idf = dict(zip(tfidfvec.get_feature_names(), tfidfvec.idf_))\n",
    "top10 = sorted(idf.iteritems(), key=lambda x: -x[1])[:10]\n",
    "top10                                                     "
   ]
  },
  {
   "cell_type": "markdown",
   "metadata": {},
   "source": [
    "## Generate LDA Topic Models"
   ]
  },
  {
   "cell_type": "code",
   "execution_count": 15,
   "metadata": {
    "collapsed": false
   },
   "outputs": [],
   "source": [
    "from sklearn.feature_extraction.text import CountVectorizer \n",
    "import gensim\n",
    "\n",
    "def generate_ldamodel(indArray ,min_df=1, num_topics=10):\n",
    "    countvec = CountVectorizer(min_df=min_df)\n",
    "    X = countvec.fit_transform(indArray)\n",
    "    corpus = countvec.get_feature_names()\n",
    "    id2words = dict((v, k) for k, v in countvec.vocabulary_.iteritems())\n",
    "    corpus_gensim = gensim.matutils.Sparse2Corpus(X, documents_columns=False)\n",
    "    ldamodel = gensim.models.ldamodel.LdaModel(corpus_gensim, id2word=id2words, num_topics=10, update_every=1, chunksize=1000, passes=1)\n",
    "    return ldamodel\n",
    "\n",
    "modelA = generate_ldamodel(lines[indA])\n",
    "modelB = generate_ldamodel(lines[indB])\n",
    "modelC = generate_ldamodel(lines[indC])\n",
    "modelD = generate_ldamodel(lines[indD])\n"
   ]
  },
  {
   "cell_type": "code",
   "execution_count": 16,
   "metadata": {
    "collapsed": false
   },
   "outputs": [
    {
     "data": {
      "text/plain": [
       "[u'0.027*day + 0.014*tomorrow + 0.013*free + 0.012*sucks + 0.011*email + 0.011*saturday + 0.011*class + 0.011*whats + 0.010*family + 0.010*big',\n",
       " u'0.019*guys + 0.018*shit + 0.017*call + 0.014*fees + 0.014*stop + 0.014*loans + 0.013*fucking + 0.012*building + 0.011*ass + 0.011*student',\n",
       " u'0.032*customer + 0.030*service + 0.018*dont + 0.018*open + 0.016*great + 0.015*home + 0.014*time + 0.014*mortgage + 0.013*happy + 0.013*night',\n",
       " u'0.076*account + 0.034*money + 0.020*card + 0.016*check + 0.015*phone + 0.013*time + 0.012*worst + 0.012*wow + 0.012*years + 0.012*work',\n",
       " u'0.017*team + 0.016*love + 0.016*atm + 0.013*put + 0.011*giving + 0.010*community + 0.010*paid + 0.010*coming + 0.009*day + 0.009*credit',\n",
       " u'0.074*center + 0.013*morning + 0.012*stock + 0.012*teller + 0.011*bad + 0.010*philadelphia + 0.009*world + 0.009*week + 0.009*called + 0.009*long',\n",
       " u'0.044*money + 0.022*hsbc + 0.022*goldmansachs + 0.022*economics + 0.022*federalreserve + 0.022*morganstanley + 0.022*financialterrorists + 0.022*classwarfare + 0.022*wallstreet + 0.016*job',\n",
       " u'0.040*business + 0.026*finance + 0.021*company + 0.020*banksters + 0.017*rebanke + 0.017*pay + 0.017*loan + 0.016*home + 0.012*good + 0.011*credit',\n",
       " u'0.040*photo + 0.032*shared + 0.022*card + 0.021*usbank + 0.019*working + 0.016*debit + 0.014*tickets + 0.011*buy + 0.011*credit + 0.011*event',\n",
       " u'0.044*contest + 0.043*getcollegeready + 0.032*banks + 0.017*ready + 0.015*information + 0.011*share + 0.010*doesnt + 0.009*word + 0.009*htm + 0.008*miss']"
      ]
     },
     "execution_count": 16,
     "metadata": {},
     "output_type": "execute_result"
    }
   ],
   "source": [
    "modelA.print_topics()"
   ]
  },
  {
   "cell_type": "code",
   "execution_count": 17,
   "metadata": {
    "collapsed": false
   },
   "outputs": [
    {
     "data": {
      "text/plain": [
       "[u'0.042*photo + 0.041*account + 0.032*economics + 0.032*morganstanley + 0.022*money + 0.021*chicago + 0.017*marathon + 0.015*open + 0.013*team + 0.012*ass',\n",
       " u'0.036*hsbc + 0.023*home + 0.018*financial + 0.015*mortgage + 0.015*pay + 0.012*line + 0.011*times + 0.010*working + 0.010*banks + 0.010*dollars',\n",
       " u'0.013*send + 0.012*free + 0.010*find + 0.009*corporation + 0.009*union + 0.008*photos + 0.008*department + 0.007*american + 0.007*tryna + 0.007*bankbs',\n",
       " u'0.068*card + 0.028*call + 0.021*credit + 0.019*debit + 0.017*number + 0.016*phone + 0.016*called + 0.013*told + 0.010*account + 0.009*getcollegeready',\n",
       " u'0.034*service + 0.033*customer + 0.016*account + 0.014*years + 0.012*guys + 0.011*morning + 0.011*night + 0.010*fuck + 0.009*minutes + 0.008*inbox',\n",
       " u'0.040*account + 0.023*money + 0.021*work + 0.020*day + 0.019*dont + 0.018*good + 0.015*time + 0.014*rebanke + 0.011*customers + 0.011*big',\n",
       " u'0.020*buy + 0.015*rating + 0.013*stock + 0.012*building + 0.011*fucking + 0.011*share + 0.009*video + 0.009*day + 0.009*neutral + 0.009*apple',\n",
       " u'0.039*stadium + 0.022*atm + 0.016*deposit + 0.015*charlotte + 0.013*panthers + 0.012*teller + 0.012*game + 0.011*run + 0.011*hate + 0.010*police',\n",
       " u'0.067*money + 0.036*shared + 0.035*finance + 0.031*goldmansachs + 0.031*usbank + 0.031*wallstreet + 0.031*banksters + 0.031*classwarfare + 0.031*federalreserve + 0.031*financialterrorists',\n",
       " u'0.030*check + 0.015*put + 0.014*goldman + 0.012*sachs + 0.011*hold + 0.011*month + 0.011*watch + 0.010*business + 0.010*cards + 0.010*cash']"
      ]
     },
     "execution_count": 17,
     "metadata": {},
     "output_type": "execute_result"
    }
   ],
   "source": [
    "modelB.print_topics()"
   ]
  },
  {
   "cell_type": "code",
   "execution_count": 18,
   "metadata": {
    "collapsed": false
   },
   "outputs": [
    {
     "data": {
      "text/plain": [
       "[u'0.064*rating + 0.036*credit + 0.035*buy + 0.035*card + 0.023*neutral + 0.017*time + 0.016*reiterated + 0.013*sell + 0.010*group + 0.010*running',\n",
       " u'0.045*goldman + 0.044*sachs + 0.015*banking + 0.011*free + 0.010*day + 0.010*gold + 0.009*banks + 0.008*cards + 0.007*card + 0.007*mortgage',\n",
       " u'0.167*shared + 0.016*target + 0.011*buy + 0.010*raised + 0.010*call + 0.008*number + 0.008*home + 0.008*list + 0.008*card + 0.007*account',\n",
       " u'0.012*market + 0.012*president + 0.012*job + 0.011*deal + 0.011*good + 0.010*fraud + 0.010*research + 0.010*loan + 0.008*analyst + 0.008*amazon',\n",
       " u'0.022*oil + 0.020*price + 0.015*report + 0.014*world + 0.014*trillion + 0.014*change + 0.013*hall + 0.011*global + 0.011*fund + 0.011*cost',\n",
       " u'0.067*finance + 0.059*wallstreet + 0.057*usbank + 0.054*financialterrorists + 0.054*classwarfare + 0.053*federalreserve + 0.053*giannis + 0.053*theodwridis + 0.051*morganstanley + 0.039*money',\n",
       " u'0.024*service + 0.022*customer + 0.014*work + 0.013*year + 0.013*great + 0.009*open + 0.008*analysts + 0.008*product + 0.008*support + 0.007*stocks',\n",
       " u'0.078*goldmansachs + 0.029*account + 0.018*money + 0.012*manager + 0.012*big + 0.010*dont + 0.009*people + 0.009*worst + 0.008*business + 0.008*banks',\n",
       " u'0.140*photo + 0.068*banksters + 0.067*economics + 0.043*money + 0.016*pay + 0.010*charges + 0.010*world + 0.009*wall + 0.008*million + 0.008*chief',\n",
       " u'0.078*hsbc + 0.018*trader + 0.015*financial + 0.015*years + 0.013*tom + 0.012*case + 0.011*street + 0.011*hold + 0.010*banks + 0.008*rate']"
      ]
     },
     "execution_count": 18,
     "metadata": {},
     "output_type": "execute_result"
    }
   ],
   "source": [
    "modelC.print_topics()"
   ]
  },
  {
   "cell_type": "code",
   "execution_count": 19,
   "metadata": {
    "collapsed": false
   },
   "outputs": [
    {
     "data": {
      "text/plain": [
       "[u'0.061*rating + 0.023*neutral + 0.021*group + 0.017*reiterated + 0.016*young + 0.013*community + 0.013*asset + 0.011*world + 0.010*yum + 0.010*years',\n",
       " u'0.019*goldman + 0.018*company + 0.018*sachs + 0.016*data + 0.012*banks + 0.012*love + 0.011*fraud + 0.011*fund + 0.010*banking + 0.009*security',\n",
       " u'0.037*card + 0.021*credit + 0.015*day + 0.013*stock + 0.011*trade + 0.011*big + 0.010*debit + 0.010*center + 0.008*services + 0.008*talk',\n",
       " u'0.067*management + 0.064*financial + 0.053*wealth + 0.049*advisers + 0.036*usbank + 0.009*market + 0.009*year + 0.007*investment + 0.007*oil + 0.007*cheshire',\n",
       " u'0.048*stockport + 0.043*managers + 0.038*finance + 0.037*shared + 0.032*overweight + 0.030*economics + 0.029*financialterrorists + 0.028*wallstreet + 0.028*classwarfare + 0.028*money',\n",
       " u'0.059*asset + 0.043*banksters + 0.015*trading + 0.009*watch + 0.008*analyst + 0.008*set + 0.008*friends + 0.007*charged + 0.007*stocks + 0.007*run',\n",
       " u'0.058*account + 0.038*money + 0.031*photo + 0.015*people + 0.014*cash + 0.013*deposit + 0.013*check + 0.013*dont + 0.011*time + 0.010*good',\n",
       " u'0.108*street + 0.105*vote + 0.105*main + 0.104*mission + 0.060*business + 0.055*small + 0.053*program + 0.053*apply + 0.053*full + 0.053*learn',\n",
       " u'0.017*transfer + 0.013*real + 0.008*news + 0.007*billion + 0.007*week + 0.007*pay + 0.006*federal + 0.006*manager + 0.006*estate + 0.006*job',\n",
       " u'0.013*million + 0.011*energy + 0.011*home + 0.010*raised + 0.010*police + 0.009*whats + 0.009*city + 0.008*mortgage + 0.008*loan + 0.007*transfer']"
      ]
     },
     "execution_count": 19,
     "metadata": {},
     "output_type": "execute_result"
    }
   ],
   "source": [
    "modelD.print_topics()"
   ]
  },
  {
   "cell_type": "code",
   "execution_count": null,
   "metadata": {
    "collapsed": true
   },
   "outputs": [],
   "source": []
  },
  {
   "cell_type": "markdown",
   "metadata": {},
   "source": [
    "## Generate Similars words from Word2Vec "
   ]
  },
  {
   "cell_type": "code",
   "execution_count": 20,
   "metadata": {
    "collapsed": false
   },
   "outputs": [],
   "source": [
    "model2A = gensim.models.Word2Vec(text[indA], min_count=1, size=40)\n",
    "model2B = gensim.models.Word2Vec(text[indB], min_count=1, size=40)\n",
    "model2C = gensim.models.Word2Vec(text[indC], min_count=1, size=40)\n",
    "model2D = gensim.models.Word2Vec(text[indD], min_count=1, size=40)"
   ]
  },
  {
   "cell_type": "code",
   "execution_count": 21,
   "metadata": {
    "collapsed": false
   },
   "outputs": [],
   "source": [
    "pos_words = ['getcollegeready', 'finance', 'wallstreet', 'economics', 'federalreserve']\n",
    "neg_words = ['classwarfare', 'financialterrorists', 'finance', 'wallstreet', 'economics', 'federalreserve', 'banksters']\n",
    "\n",
    "synonymA = model2A.most_similar(positive=['banka'])\n",
    "synonymB = model2B.most_similar(positive=['bankb'])\n",
    "synonymC = model2C.most_similar(positive=['bankc'])\n",
    "synonymD = model2D.most_similar(positive=['bankd'])"
   ]
  },
  {
   "cell_type": "code",
   "execution_count": 22,
   "metadata": {
    "collapsed": false
   },
   "outputs": [
    {
     "data": {
      "text/plain": [
       "[('husbandmaterial', 0.5419613122940063),\n",
       " ('shrieking', 0.5392065048217773),\n",
       " ('4iugnnqps', 0.47520220279693604),\n",
       " ('ludicrous', 0.47099435329437256),\n",
       " ('3y7uax', 0.46934011578559875),\n",
       " ('yourhomeyourway', 0.4658353924751282),\n",
       " ('batess', 0.46269187331199646),\n",
       " ('julia', 0.4623016119003296),\n",
       " ('bzy0fk', 0.4602036774158478),\n",
       " ('comercal', 0.45838963985443115)]"
      ]
     },
     "execution_count": 22,
     "metadata": {},
     "output_type": "execute_result"
    }
   ],
   "source": [
    "synonymA\n",
    "# 1.bank teller at BankA just flirted with me and then followed up by giving me a blue raspberry dum-dum.\n",
    "# # husbandmaterial# orhethinksimalittlegirl"
   ]
  },
  {
   "cell_type": "code",
   "execution_count": 23,
   "metadata": {
    "collapsed": false
   },
   "outputs": [
    {
     "data": {
      "text/plain": [
       "[('palmers', 0.5909887552261353),\n",
       " ('achieva', 0.5908536314964294),\n",
       " ('problam', 0.5905898809432983),\n",
       " ('kidos', 0.5829063653945923),\n",
       " ('salesmen', 0.5633691549301147),\n",
       " ('trials', 0.5237843990325928),\n",
       " ('magical', 0.5028483867645264),\n",
       " ('liberated', 0.5003407597541809),\n",
       " ('zombies', 0.4987490773200989),\n",
       " ('99problems', 0.4951059818267822)]"
      ]
     },
     "execution_count": 23,
     "metadata": {},
     "output_type": "execute_result"
    }
   ],
   "source": [
    "synonymB"
   ]
  },
  {
   "cell_type": "code",
   "execution_count": 24,
   "metadata": {
    "collapsed": false
   },
   "outputs": [
    {
     "data": {
      "text/plain": [
       "[('tapered', 0.529935359954834),\n",
       " ('devi', 0.5161897540092468),\n",
       " ('chinastocks', 0.5062400102615356),\n",
       " ('teachmehowtoadult', 0.4992290139198303),\n",
       " ('influencing', 0.4850664734840393),\n",
       " ('dako', 0.47909513115882874),\n",
       " ('systemaicmedicalprogram', 0.454127699136734),\n",
       " ('derulo', 0.45412763953208923),\n",
       " ('establishes', 0.45327693223953247),\n",
       " ('integrati', 0.4498327672481537)]"
      ]
     },
     "execution_count": 24,
     "metadata": {},
     "output_type": "execute_result"
    }
   ],
   "source": [
    "synonymC"
   ]
  },
  {
   "cell_type": "code",
   "execution_count": 25,
   "metadata": {
    "collapsed": false
   },
   "outputs": [
    {
     "data": {
      "text/plain": [
       "[('eatin', 0.6147010326385498),\n",
       " ('hiphopheads', 0.5570492148399353),\n",
       " ('providian', 0.5414141416549683),\n",
       " ('ahahaha', 0.5339089632034302),\n",
       " ('a1zp48', 0.5333604216575623),\n",
       " ('barlcays', 0.5299626588821411),\n",
       " ('1lbf07r', 0.5296684503555298),\n",
       " ('lmss', 0.527097225189209),\n",
       " ('edh', 0.5142173767089844),\n",
       " ('ubs32', 0.49940818548202515)]"
      ]
     },
     "execution_count": 25,
     "metadata": {},
     "output_type": "execute_result"
    }
   ],
   "source": [
    "synonymD"
   ]
  },
  {
   "cell_type": "markdown",
   "metadata": {},
   "source": [
    "Just for the record, the Word2Vec is not giving out really crucial information on the topic, but it could help as a good supplement."
   ]
  },
  {
   "cell_type": "code",
   "execution_count": null,
   "metadata": {
    "collapsed": true
   },
   "outputs": [],
   "source": []
  }
 ],
 "metadata": {
  "kernelspec": {
   "display_name": "Python 2",
   "language": "python",
   "name": "python2"
  },
  "language_info": {
   "codemirror_mode": {
    "name": "ipython",
    "version": 2
   },
   "file_extension": ".py",
   "mimetype": "text/x-python",
   "name": "python",
   "nbconvert_exporter": "python",
   "pygments_lexer": "ipython2",
   "version": "2.7.11"
  }
 },
 "nbformat": 4,
 "nbformat_minor": 0
}
