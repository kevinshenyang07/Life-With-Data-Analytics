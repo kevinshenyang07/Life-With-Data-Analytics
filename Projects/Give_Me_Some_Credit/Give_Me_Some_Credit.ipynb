{
 "cells": [
  {
   "cell_type": "markdown",
   "metadata": {},
   "source": [
    "# Kaggle Project1: Give Me Some Credit Ver0.1\n",
    "\n",
    "\n",
    "**Objective**: Improve credit scoring by predicting the probability that somebody will experience financial distress in the next two years.\n",
    "\n",
    "###Features:\n",
    "\n",
    "**Record Number** – Redundant (Number ID)\n",
    "\n",
    "**RevolvingUtilizationOfUnsecuredLines** –  (Total balance on credit cards + personal lines of credit) / Sum of credit limits\n",
    "\n",
    "(Does not include real estate and installment debt like car loans) (Percentage)\n",
    "\n",
    "**age** – Age in years of the person borrowing (Integer)\n",
    "\n",
    "**NumberOfTime30-59DaysPastDueNotWorse** – This is the number of times the person borrowing has \n",
    "\n",
    "been late on making a payment by 30-59 days but no worse in the last 2 years (Integer)\n",
    "\n",
    "**DebtRatio** – Monthly debt payments + alimony + living costs⁄monthly gross income (Percentage)\n",
    "\n",
    "**MonthlyIncome** – This the merely the monthly income of the particular borrower (Integer)\n",
    "\n",
    "**NumberOfOpenCreditLinesAndLoans** – The number of open loans (car/mortgage loans) and lines of \n",
    "\n",
    "credit (credit cards, etc.) one has (Integer)\n",
    "\n",
    "**NumberOfTimes90DaysLate** – This is the number of times one has been 90 days or more past due \n",
    "\n",
    "(Integer)\n",
    "\n",
    "**NumberRealEstateLoansOrLines** – This is the number of real estate and mortgage loans one has; this \n",
    "\n",
    "includes home equity lines of credit. (Integer)\n",
    "\n",
    "**NumberOfTime60-89DaysPastDueNotWorse** – This is the number of times the person borrowing has \n",
    "\n",
    "been late on making a payment by 60-89 days but no worse in the last 2 years (Integer)\n",
    "\n",
    "**NumberOfDependents** – This value is merely the number of dependents one has; this includes \n",
    "\n",
    "themselves, spouse, children, etc. (Integer)\n",
    "\n",
    "###Target data:\n",
    "\n",
    "**SeriousDlqin2yrs** – Indicates whether someone has experienced some past due delinquency \n",
    "\n",
    "by 90 days or worse (1/0 – True/False)"
   ]
  },
  {
   "cell_type": "code",
   "execution_count": null,
   "metadata": {
    "collapsed": true
   },
   "outputs": [],
   "source": [
    "%matplotlib inline\n",
    "import numpy as np\n",
    "import scipy as sp\n",
    "import matplotlib as mpl\n",
    "import matplotlib.cm as cm\n",
    "import matplotlib.pyplot as plt\n",
    "import pandas as pd\n",
    "pd.set_option('display.width', 500)\n",
    "pd.set_option('display.max_columns', 100)\n",
    "pd.set_option('display.notebook_repr_html', True)\n",
    "import seaborn as sns\n",
    "sns.set_style(\"whitegrid\")\n",
    "sns.set_context(\"poster\")"
   ]
  },
  {
   "cell_type": "code",
   "execution_count": 2,
   "metadata": {
    "collapsed": true
   },
   "outputs": [],
   "source": [
    "c0=sns.color_palette()[0]\n",
    "c1=sns.color_palette()[1]\n",
    "c2=sns.color_palette()[2]"
   ]
  },
  {
   "cell_type": "code",
   "execution_count": 3,
   "metadata": {
    "collapsed": false
   },
   "outputs": [],
   "source": [
    "from matplotlib.colors import ListedColormap\n",
    "cmap_light = ListedColormap(['#FFAAAA', '#AAFFAA', '#AAAAFF'])\n",
    "cmap_bold = ListedColormap(['#FF0000', '#00FF00', '#0000FF'])\n",
    "cm = plt.cm.RdBu\n",
    "cm_bright = ListedColormap(['#FF0000', '#0000FF'])\n",
    "\n",
    "# get ready for plots"
   ]
  },
  {
   "cell_type": "code",
   "execution_count": null,
   "metadata": {
    "collapsed": true
   },
   "outputs": [],
   "source": []
  }
 ],
 "metadata": {
  "kernelspec": {
   "display_name": "Python 2",
   "language": "python",
   "name": "python2"
  },
  "language_info": {
   "codemirror_mode": {
    "name": "ipython",
    "version": 2
   },
   "file_extension": ".py",
   "mimetype": "text/x-python",
   "name": "python",
   "nbconvert_exporter": "python",
   "pygments_lexer": "ipython2",
   "version": "2.7.10"
  }
 },
 "nbformat": 4,
 "nbformat_minor": 0
}
